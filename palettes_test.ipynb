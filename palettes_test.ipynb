{
 "cells": [
  {
   "cell_type": "code",
   "execution_count": 23,
   "metadata": {},
   "outputs": [],
   "source": [
    "import seaborn as sns\n",
    "import matplotlib.pyplot as plt\n",
    "import numpy as np\n",
    "\n"
   ]
  },
  {
   "cell_type": "code",
   "execution_count": 21,
   "metadata": {},
   "outputs": [
    {
     "data": {
      "image/png": "[encoded data removed]",
      "text/html": [
       "<div style=\"vertical-align: middle;\"><strong>blend</strong> </div><div class=\"cmap\"><img alt=\"blend colormap\" title=\"blend\" style=\"border: 1px solid #555;\" src=\"data:image/png;base64,iVBORw0KGgoAAAANSUhEUgAAAgAAAABACAYAAABsv8+/AAAAFHRFWHRUaXRsZQBibGVuZCBjb2xvcm1hcKH0gPAAAAAadEVYdERlc2NyaXB0aW9uAGJsZW5kIGNvbG9ybWFwX6spFgAAADB0RVh0QXV0aG9yAE1hdHBsb3RsaWIgdjMuNi4wLCBodHRwczovL21hdHBsb3RsaWIub3Jn4ahzAgAAADJ0RVh0U29mdHdhcmUATWF0cGxvdGxpYiB2My42LjAsIGh0dHBzOi8vbWF0cGxvdGxpYi5vcmfPDuwlAAABmUlEQVR4nO3WQW6DMBRAQUPuf+SEblCrklopKFm9mY0ViO0vVm8ZY9vGGGNdHuPPdT35/Oq+d593ct+yr7fJ/1++35/fJnNM36+H81/N96H5/zvHutz3dbs0x/f+dbv0nZ7u/9j8s3vuh/N+v/+Zf3bPZP/T/LPvdD+cd7j/5PzL2G37+jj8fvX86r53n2cOc5jj9L51AAA5AgAAggQAAAQJAAAIEgAAECQAACBIAABAkAAAgCABAABBAgAAggQAAAQJAAAIEgAAECQAACBIAABAkAAAgCABAABBAgAAggQAAAQJAAAIEgAAECQAACBIAABAkAAAgCABAABBAgAAggQAAAQJAAAIEgAAECQAACBIAABAkAAAgCABAABBAgAAggQAAAQJAAAIEgAAECQAACBIAABAkAAAgCABAABBAgAAggQAAAQJAAAIEgAAECQAACBIAABAkAAAgCABAABBAgAAggQAAAQJAAAIEgAAECQAACBIAABAkAAAgCABAABBAgAAggQAAAQJAAAIEgAAECQAACBIAABA0BftwgCNNJdFugAAAABJRU5ErkJggg==\"></div><div style=\"vertical-align: middle; max-width: 514px; display: flex; justify-content: space-between;\"><div style=\"float: left;\"><div title=\"#0000ffff\" style=\"display: inline-block; width: 1em; height: 1em; margin: 0; vertical-align: middle; border: 1px solid #555; background-color: #0000ffff;\"></div> under</div><div style=\"margin: 0 auto; display: inline-block;\">bad <div title=\"#00000000\" style=\"display: inline-block; width: 1em; height: 1em; margin: 0; vertical-align: middle; border: 1px solid #555; background-color: #00000000;\"></div></div><div style=\"float: right;\">over <div title=\"#ff0000ff\" style=\"display: inline-block; width: 1em; height: 1em; margin: 0; vertical-align: middle; border: 1px solid #555; background-color: #ff0000ff;\"></div></div>"
      ],
      "text/plain": [
       "<matplotlib.colors.LinearSegmentedColormap at 0x13aae1b40>"
      ]
     },
     "metadata": {},
     "output_type": "display_data"
    }
   ],
   "source": []
  },
  {
   "cell_type": "code",
   "execution_count": 50,
   "metadata": {},
   "outputs": [
    {
     "data": {
      "image/png": "[encoded data removed]",
      "text/html": [
       "<div style=\"vertical-align: middle;\"><strong>blend</strong> </div><div class=\"cmap\"><img alt=\"blend colormap\" title=\"blend\" style=\"border: 1px solid #555;\" src=\"data:image/png;base64,iVBORw0KGgoAAAANSUhEUgAAAgAAAABACAYAAABsv8+/AAAAFHRFWHRUaXRsZQBibGVuZCBjb2xvcm1hcKH0gPAAAAAadEVYdERlc2NyaXB0aW9uAGJsZW5kIGNvbG9ybWFwX6spFgAAADB0RVh0QXV0aG9yAE1hdHBsb3RsaWIgdjMuNi4wLCBodHRwczovL21hdHBsb3RsaWIub3Jn4ahzAgAAADJ0RVh0U29mdHdhcmUATWF0cGxvdGxpYiB2My42LjAsIGh0dHBzOi8vbWF0cGxvdGxpYi5vcmfPDuwlAAABV0lEQVR4nO3WMQ7CQAwAQSf8/8nhKEiFhKBBAnamsU4+97vNrDUzs+/XKc9tu8/Lpbl//99xzvXn98/+HQ/v9dP325yuXz6Pcy73H71/9c/+r/b7AAA5AgAAggQAAAQJAAAIEgAAECQAACBIAABAkAAAgCABAABBAgAAggQAAAQJAAAIEgAAECQAACBIAABAkAAAgCABAABBAgAAggQAAAQJAAAIEgAAECQAACBIAABAkAAAgCABAABBAgAAggQAAAQJAAAIEgAAECQAACBIAABAkAAAgCABAABBAgAAggQAAAQJAAAIEgAAECQAACBIAABAkAAAgCABAABBAgAAggQAAAQJAAAIEgAAECQAACBIAABAkAAAgCABAABBAgAAggQAAAQJAAAIEgAAECQAACBIAABAkAAAgCABAABBAgAAggQAAAQJAAAIEgAAECQAACBIAABA0A1XAACNt1Z/RQAAAABJRU5ErkJggg==\"></div><div style=\"vertical-align: middle; max-width: 514px; display: flex; justify-content: space-between;\"><div style=\"float: left;\"><div title=\"#0000ffff\" style=\"display: inline-block; width: 1em; height: 1em; margin: 0; vertical-align: middle; border: 1px solid #555; background-color: #0000ffff;\"></div> under</div><div style=\"margin: 0 auto; display: inline-block;\">bad <div title=\"#00000000\" style=\"display: inline-block; width: 1em; height: 1em; margin: 0; vertical-align: middle; border: 1px solid #555; background-color: #00000000;\"></div></div><div style=\"float: right;\">over <div title=\"#ff0000ff\" style=\"display: inline-block; width: 1em; height: 1em; margin: 0; vertical-align: middle; border: 1px solid #555; background-color: #ff0000ff;\"></div></div>"
      ],
      "text/plain": [
       "<matplotlib.colors.LinearSegmentedColormap at 0x13aae2500>"
      ]
     },
     "metadata": {},
     "output_type": "display_data"
    },
    {
     "data": {
      "image/png": "[encoded data removed]",
      "text/html": [
       "<div style=\"vertical-align: middle;\"><strong>blend</strong> </div><div class=\"cmap\"><img alt=\"blend colormap\" title=\"blend\" style=\"border: 1px solid #555;\" src=\"data:image/png;base64,iVBORw0KGgoAAAANSUhEUgAAAgAAAABACAYAAABsv8+/AAAAFHRFWHRUaXRsZQBibGVuZCBjb2xvcm1hcKH0gPAAAAAadEVYdERlc2NyaXB0aW9uAGJsZW5kIGNvbG9ybWFwX6spFgAAADB0RVh0QXV0aG9yAE1hdHBsb3RsaWIgdjMuNi4wLCBodHRwczovL21hdHBsb3RsaWIub3Jn4ahzAgAAADJ0RVh0U29mdHdhcmUATWF0cGxvdGxpYiB2My42LjAsIGh0dHBzOi8vbWF0cGxvdGxpYi5vcmfPDuwlAAABzklEQVR4nO3WS1LCUBBA0Uf26mJcliuLE4EiEPOB2T1nkoqp13TEKu/l6/tnHmOMy5jHGGNcLtfreLwf4+XzaeP52vlp5/z785VzB+dMB/fcfs/FnLFybuX5p/e8n9/4nJXn08E9r3s8veenvteNPd5+z4Pf69k9337Pxe9r7/tu/f2Nv/vr5fD1eju/N2e+3Z+cszh+ds789PODc572ODdv/fzOOZt77JuzfX5jzu49/p+z//zKnMN7vJ5z/Pzygz8z5/z5hzVu/2cAgBABAABBAgAAggQAAAQJAAAIEgAAECQAACBIAABAkAAAgCABAABBAgAAggQAAAQJAAAIEgAAECQAACBIAABAkAAAgCABAABBAgAAggQAAAQJAAAIEgAAECQAACBIAABAkAAAgCABAABBAgAAggQAAAQJAAAIEgAAECQAACBIAABAkAAAgCABAABBAgAAggQAAAQJAAAIEgAAECQAACBIAABAkAAAgCABAABBAgAAggQAAAQJAAAIEgAAECQAACBIAABAkAAAgCABAABBAgAAggQAAAQJAAAIEgAAECQAACBIAABAkAAAgCABAABBAgAAggQAAAQJAAAIEgAAECQAACDoFxZL2UhRW+1QAAAAAElFTkSuQmCC\"></div><div style=\"vertical-align: middle; max-width: 514px; display: flex; justify-content: space-between;\"><div style=\"float: left;\"><div title=\"#6589c1ff\" style=\"display: inline-block; width: 1em; height: 1em; margin: 0; vertical-align: middle; border: 1px solid #555; background-color: #6589c1ff;\"></div> under</div><div style=\"margin: 0 auto; display: inline-block;\">bad <div title=\"#00000000\" style=\"display: inline-block; width: 1em; height: 1em; margin: 0; vertical-align: middle; border: 1px solid #555; background-color: #00000000;\"></div></div><div style=\"float: right;\">over <div title=\"#e77270ff\" style=\"display: inline-block; width: 1em; height: 1em; margin: 0; vertical-align: middle; border: 1px solid #555; background-color: #e77270ff;\"></div></div>"
      ],
      "text/plain": [
       "<matplotlib.colors.LinearSegmentedColormap at 0x108eb5a20>"
      ]
     },
     "metadata": {},
     "output_type": "display_data"
    },
    {
     "data": {
      "image/png": "[encoded data removed]",
      "text/html": [
       "<div style=\"vertical-align: middle;\"><strong>blend</strong> </div><div class=\"cmap\"><img alt=\"blend colormap\" title=\"blend\" style=\"border: 1px solid #555;\" src=\"data:image/png;base64,iVBORw0KGgoAAAANSUhEUgAAAgAAAABACAYAAABsv8+/AAAAFHRFWHRUaXRsZQBibGVuZCBjb2xvcm1hcKH0gPAAAAAadEVYdERlc2NyaXB0aW9uAGJsZW5kIGNvbG9ybWFwX6spFgAAADB0RVh0QXV0aG9yAE1hdHBsb3RsaWIgdjMuNi4wLCBodHRwczovL21hdHBsb3RsaWIub3Jn4ahzAgAAADJ0RVh0U29mdHdhcmUATWF0cGxvdGxpYiB2My42LjAsIGh0dHBzOi8vbWF0cGxvdGxpYi5vcmfPDuwlAAACFklEQVR4nO3WwXajMBBFwUb+/18OWQTIwZIQ+1e18YDlliCzuFtV7VVV29aqqmprx+d1/bndb926+/f9us/XvPv9bt5s7rGutcXc43etmzf+Xb9u/Dzd3MnzdHMn77Ff97zv9V4Xz9OvG+97vf/Z87z9u87mvvy79utmz3Pe34/f3T//79f4fvv+Xb2b1+r5+5f7bdt4zmq/2fm687/cr5v3cr9uXnt+D6v95s/1dr/F+3+53/T8i/2m84796ufvuvbzuobX+3l9/mOy7ry+1q/mn19f95/n7/v3/ef5e3d/Mr87x/P8/hzP8/tzTOZPzzGePz/HeP78HF/zl+e4z1+f4z5/fY775/nfFQAIIgAAIJAAAIBAAgAAAgkAAAgkAAAgkAAAgEACAAACCQAACCQAACCQAACAQAIAAAIJAAAIJAAAIJAAAIBAAgAAAgkAAAgkAAAgkAAAgEACAAACCQAACCQAACCQAACAQAIAAAIJAAAIJAAAIJAAAIBAAgAAAgkAAAgkAAAgkAAAgEACAAACCQAACCQAACCQAACAQAIAAAIJAAAIJAAAIJAAAIBAAgAAAgkAAAgkAAAgkAAAgEACAAACCQAACCQAACCQAACAQAIAAAIJAAAIJAAAIJAAAIBAAgAAAgkAAAgkAAAgkAAAgEACAAACCQAACCQAACCQAACAQAIAAAIJAAAIJAAAIJAAAIBAv4hBt0gQahSDAAAAAElFTkSuQmCC\"></div><div style=\"vertical-align: middle; max-width: 514px; display: flex; justify-content: space-between;\"><div style=\"float: left;\"><div title=\"#000000ff\" style=\"display: inline-block; width: 1em; height: 1em; margin: 0; vertical-align: middle; border: 1px solid #555; background-color: #000000ff;\"></div> under</div><div style=\"margin: 0 auto; display: inline-block;\">bad <div title=\"#00000000\" style=\"display: inline-block; width: 1em; height: 1em; margin: 0; vertical-align: middle; border: 1px solid #555; background-color: #00000000;\"></div></div><div style=\"float: right;\">over <div title=\"#e77270ff\" style=\"display: inline-block; width: 1em; height: 1em; margin: 0; vertical-align: middle; border: 1px solid #555; background-color: #e77270ff;\"></div></div>"
      ],
      "text/plain": [
       "<matplotlib.colors.LinearSegmentedColormap at 0x108eb5630>"
      ]
     },
     "metadata": {},
     "output_type": "display_data"
    },
    {
     "data": {
      "image/png": "[encoded data removed]",
      "text/html": [
       "<div style=\"vertical-align: middle;\"><strong>blend</strong> </div><div class=\"cmap\"><img alt=\"blend colormap\" title=\"blend\" style=\"border: 1px solid #555;\" src=\"data:image/png;base64,iVBORw0KGgoAAAANSUhEUgAAAgAAAABACAYAAABsv8+/AAAAFHRFWHRUaXRsZQBibGVuZCBjb2xvcm1hcKH0gPAAAAAadEVYdERlc2NyaXB0aW9uAGJsZW5kIGNvbG9ybWFwX6spFgAAADB0RVh0QXV0aG9yAE1hdHBsb3RsaWIgdjMuNi4wLCBodHRwczovL21hdHBsb3RsaWIub3Jn4ahzAgAAADJ0RVh0U29mdHdhcmUATWF0cGxvdGxpYiB2My42LjAsIGh0dHBzOi8vbWF0cGxvdGxpYi5vcmfPDuwlAAAB2klEQVR4nO3WQY6bMABAUchde5geqxeDLqaMVBKPGZqu/nsbhADbECv664+fv/ZlWZZ1+bCux3H96/xxOj9fP84fk+vHPG8bb7S+5d3rn9y3XFzXzfd8DN7rv/1Ox3iT+Z7Hu7mu5R9/76vvubx5vNvzvfk9B/PMxvu074Pj9ucwuv76uJ+e/7y+je6bjbe9vj5Y1/O4r5/fJ+NM5x/d/zTeZP7Rcfve/MPxttfruP79T89f/u5ff4er+2q4n6bffbKvp9/r5n6a7tPJ/NN9enM/nY7H/wYAECIAACBIAABAkAAAgCABAABBAgAAggQAAAQJAAAIEgAAECQAACBIAABAkAAAgCABAABBAgAAggQAAAQJAAAIEgAAECQAACBIAABAkAAAgCABAABBAgAAggQAAAQJAAAIEgAAECQAACBIAABAkAAAgCABAABBAgAAggQAAAQJAAAIEgAAECQAACBIAABAkAAAgCABAABBAgAAggQAAAQJAAAIEgAAECQAACBIAABAkAAAgCABAABBAgAAggQAAAQJAAAIEgAAECQAACBIAABAkAAAgCABAABBAgAAggQAAAQJAAAIEgAAECQAACBIAABAkAAAgCABAABBAgAAggQAAAT9BpH1GFeED5qSAAAAAElFTkSuQmCC\"></div><div style=\"vertical-align: middle; max-width: 514px; display: flex; justify-content: space-between;\"><div style=\"float: left;\"><div title=\"#6589c1ff\" style=\"display: inline-block; width: 1em; height: 1em; margin: 0; vertical-align: middle; border: 1px solid #555; background-color: #6589c1ff;\"></div> under</div><div style=\"margin: 0 auto; display: inline-block;\">bad <div title=\"#00000000\" style=\"display: inline-block; width: 1em; height: 1em; margin: 0; vertical-align: middle; border: 1px solid #555; background-color: #00000000;\"></div></div><div style=\"float: right;\">over <div title=\"#e77270ff\" style=\"display: inline-block; width: 1em; height: 1em; margin: 0; vertical-align: middle; border: 1px solid #555; background-color: #e77270ff;\"></div></div>"
      ],
      "text/plain": [
       "<matplotlib.colors.LinearSegmentedColormap at 0x12edcc790>"
      ]
     },
     "metadata": {},
     "output_type": "display_data"
    },
    {
     "data": {
      "image/png": "[encoded data removed]",
      "text/html": [
       "<div style=\"vertical-align: middle;\"><strong>blend</strong> </div><div class=\"cmap\"><img alt=\"blend colormap\" title=\"blend\" style=\"border: 1px solid #555;\" src=\"data:image/png;base64,iVBORw0KGgoAAAANSUhEUgAAAgAAAABACAYAAABsv8+/AAAAFHRFWHRUaXRsZQBibGVuZCBjb2xvcm1hcKH0gPAAAAAadEVYdERlc2NyaXB0aW9uAGJsZW5kIGNvbG9ybWFwX6spFgAAADB0RVh0QXV0aG9yAE1hdHBsb3RsaWIgdjMuNi4wLCBodHRwczovL21hdHBsb3RsaWIub3Jn4ahzAgAAADJ0RVh0U29mdHdhcmUATWF0cGxvdGxpYiB2My42LjAsIGh0dHBzOi8vbWF0cGxvdGxpYi5vcmfPDuwlAAABvElEQVR4nO3WQW6DMAAAQeDFVT/dX5QekkuTEhNK1Eo7c0ERljHGinb+eH9bp2mapnme9lznzfvL5bqMxm3Nt3y/vxx8/ta44XzLj/fvxm/Mc7uO3e9/N9/jdWzOuxx8/uA77t//23GP53n6ew73feP5g/06fJ6G52rneRrO99z3vN+vwTqu1unyN7Cu6zm/r9fPs+c9aV2jccfXfXA/T3q/l+/3i+b99br/6DwN1/1fzv3d74vrvwMAUCIAACBIAABAkAAAgCABAABBAgAAggQAAAQJAAAIEgAAECQAACBIAABAkAAAgCABAABBAgAAggQAAAQJAAAIEgAAECQAACBIAABAkAAAgCABAABBAgAAggQAAAQJAAAIEgAAECQAACBIAABAkAAAgCABAABBAgAAggQAAAQJAAAIEgAAECQAACBIAABAkAAAgCABAABBAgAAggQAAAQJAAAIEgAAECQAACBIAABAkAAAgCABAABBAgAAggQAAAQJAAAIEgAAECQAACBIAABAkAAAgCABAABBAgAAggQAAAQJAAAIEgAAECQAACBIAABAkAAAgCABAABBAgAAggQAAAR9AduUQUVAdDIZAAAAAElFTkSuQmCC\"></div><div style=\"vertical-align: middle; max-width: 514px; display: flex; justify-content: space-between;\"><div style=\"float: left;\"><div title=\"#e77270ff\" style=\"display: inline-block; width: 1em; height: 1em; margin: 0; vertical-align: middle; border: 1px solid #555; background-color: #e77270ff;\"></div> under</div><div style=\"margin: 0 auto; display: inline-block;\">bad <div title=\"#00000000\" style=\"display: inline-block; width: 1em; height: 1em; margin: 0; vertical-align: middle; border: 1px solid #555; background-color: #00000000;\"></div></div><div style=\"float: right;\">over <div title=\"#7abc81ff\" style=\"display: inline-block; width: 1em; height: 1em; margin: 0; vertical-align: middle; border: 1px solid #555; background-color: #7abc81ff;\"></div></div>"
      ],
      "text/plain": [
       "<matplotlib.colors.LinearSegmentedColormap at 0x12edfd1b0>"
      ]
     },
     "metadata": {},
     "output_type": "display_data"
    },
    {
     "data": {
      "image/png": "[encoded data removed]",
      "text/html": [
       "<div style=\"vertical-align: middle;\"><strong>blend</strong> </div><div class=\"cmap\"><img alt=\"blend colormap\" title=\"blend\" style=\"border: 1px solid #555;\" src=\"data:image/png;base64,iVBORw0KGgoAAAANSUhEUgAAAgAAAABACAYAAABsv8+/AAAAFHRFWHRUaXRsZQBibGVuZCBjb2xvcm1hcKH0gPAAAAAadEVYdERlc2NyaXB0aW9uAGJsZW5kIGNvbG9ybWFwX6spFgAAADB0RVh0QXV0aG9yAE1hdHBsb3RsaWIgdjMuNi4wLCBodHRwczovL21hdHBsb3RsaWIub3Jn4ahzAgAAADJ0RVh0U29mdHdhcmUATWF0cGxvdGxpYiB2My42LjAsIGh0dHBzOi8vbWF0cGxvdGxpYi5vcmfPDuwlAAABmklEQVR4nO3WUUoDMRRA0YkrFjftMuqPHcQ6mskgFO45P21D+ngttNzx/vZ6274aa49jfz2m7h++f9/j4pzFfR73uDhncZ/jPRbnLO7z9x4n5yzuM7/H7/Pm9/h5zvoeB3OWf2/fFlmd9/nk/iewP962ufPZe5Pn2+S9Z9n38XxM3rt2vv3753i2uePU/d73c+78/rt/2QCAHAEAAEECAACCBAAABAkAAAgSAAAQJAAAIEgAAECQAACAIAEAAEECAACCBAAABAkAAAgSAAAQJAAAIEgAAECQAACAIAEAAEECAACCBAAABAkAAAgSAAAQJAAAIEgAAECQAACAIAEAAEECAACCBAAABAkAAAgSAAAQJAAAIEgAAECQAACAIAEAAEECAACCBAAABAkAAAgSAAAQJAAAIEgAAECQAACAIAEAAEECAACCBAAABAkAAAgSAAAQJAAAIEgAAECQAACAIAEAAEECAACCBAAABAkAAAgSAAAQJAAAIEgAAECQAACAIAEAAEECAACCBAAABAkAAAgSAAAQJAAAIOgD1KCrNgqwECoAAAAASUVORK5CYII=\"></div><div style=\"vertical-align: middle; max-width: 514px; display: flex; justify-content: space-between;\"><div style=\"float: left;\"><div title=\"#e77270ff\" style=\"display: inline-block; width: 1em; height: 1em; margin: 0; vertical-align: middle; border: 1px solid #555; background-color: #e77270ff;\"></div> under</div><div style=\"margin: 0 auto; display: inline-block;\">bad <div title=\"#00000000\" style=\"display: inline-block; width: 1em; height: 1em; margin: 0; vertical-align: middle; border: 1px solid #555; background-color: #00000000;\"></div></div><div style=\"float: right;\">over <div title=\"#7abc81ff\" style=\"display: inline-block; width: 1em; height: 1em; margin: 0; vertical-align: middle; border: 1px solid #555; background-color: #7abc81ff;\"></div></div>"
      ],
      "text/plain": [
       "<matplotlib.colors.LinearSegmentedColormap at 0x108e886d0>"
      ]
     },
     "metadata": {},
     "output_type": "display_data"
    }
   ],
   "source": [
    "xls_gradient_red =    np.array((231, 114, 112)) / 255\n",
    "xls_gradient_blue =   np.array((101,  137, 193)) / 255\n",
    "xls_gradient_yellow = np.array((246, 234, 126)) / 255\n",
    "xls_gradient_green =  np.array((122,  188, 129)) / 255\n",
    "\n",
    "display(sns.blend_palette(['blue', 'yellow', 'red'], n_colors=10, as_cmap=True))\n",
    "display(sns.blend_palette([xls_gradient_blue, xls_gradient_yellow, xls_gradient_red], n_colors=10, as_cmap=True))\n",
    "display(sns.blend_palette(['black', xls_gradient_blue, xls_gradient_yellow, xls_gradient_red], n_colors=10, as_cmap=True))\n",
    "display(sns.blend_palette([xls_gradient_blue, 'white', xls_gradient_red], n_colors=10, as_cmap=True))\n",
    "display(sns.blend_palette([xls_gradient_red, 'white', xls_gradient_green], n_colors=10, as_cmap=True))\n",
    "display(sns.blend_palette([xls_gradient_red, xls_gradient_yellow, xls_gradient_green], n_colors=10, as_cmap=True))"
   ]
  },
  {
   "cell_type": "code",
   "execution_count": 40,
   "metadata": {},
   "outputs": [],
   "source": [
    "xls_black_blue_yellow_red_palette = np.array(sns.blend_palette(['black', xls_gradient_blue, xls_gradient_yellow, xls_gradient_red], n_colors=256, as_cmap=False))\n",
    "xls_blue_white_red_palette = np.array(sns.blend_palette([xls_gradient_blue, 'white', xls_gradient_red], n_colors=256, as_cmap=False))"
   ]
  },
  {
   "cell_type": "code",
   "execution_count": 51,
   "metadata": {},
   "outputs": [
    {
     "data": {
      "text/plain": [
       "array([[  0.,   0.,   0.],\n",
       "       [  1.,   1.,   2.],\n",
       "       [  2.,   3.,   4.],\n",
       "       [  3.,   4.,   6.],\n",
       "       [  4.,   6.,   9.],\n",
       "       [  5.,   8.,  11.],\n",
       "       [  6.,   9.,  13.],\n",
       "       [  7.,  11.,  16.],\n",
       "       [  8.,  12.,  18.],\n",
       "       [  9.,  14.,  20.],\n",
       "       [ 10.,  16.,  23.],\n",
       "       [ 11.,  17.,  25.],\n",
       "       [ 12.,  19.,  27.],\n",
       "       [ 13.,  21.,  30.],\n",
       "       [ 14.,  22.,  32.],\n",
       "       [ 15.,  24.,  34.],\n",
       "       [ 16.,  25.,  37.],\n",
       "       [ 18.,  27.,  39.],\n",
       "       [ 19.,  29.,  41.],\n",
       "       [ 20.,  30.,  44.],\n",
       "       [ 21.,  32.,  46.],\n",
       "       [ 22.,  34.,  48.],\n",
       "       [ 23.,  35.,  51.],\n",
       "       [ 24.,  37.,  53.],\n",
       "       [ 25.,  38.,  55.],\n",
       "       [ 26.,  40.,  58.],\n",
       "       [ 27.,  42.,  60.],\n",
       "       [ 28.,  43.,  62.],\n",
       "       [ 29.,  45.,  65.],\n",
       "       [ 30.,  47.,  67.],\n",
       "       [ 31.,  48.,  69.],\n",
       "       [ 32.,  50.,  72.],\n",
       "       [ 33.,  51.,  74.],\n",
       "       [ 34.,  53.,  76.],\n",
       "       [ 36.,  55.,  79.],\n",
       "       [ 37.,  56.,  81.],\n",
       "       [ 38.,  58.,  83.],\n",
       "       [ 39.,  60.,  86.],\n",
       "       [ 40.,  61.,  88.],\n",
       "       [ 41.,  63.,  90.],\n",
       "       [ 42.,  64.,  93.],\n",
       "       [ 43.,  66.,  95.],\n",
       "       [ 44.,  68.,  97.],\n",
       "       [ 45.,  69., 100.],\n",
       "       [ 46.,  71., 102.],\n",
       "       [ 47.,  73., 104.],\n",
       "       [ 48.,  74., 107.],\n",
       "       [ 49.,  76., 109.],\n",
       "       [ 50.,  77., 111.],\n",
       "       [ 51.,  79., 114.],\n",
       "       [ 52.,  81., 116.],\n",
       "       [ 54.,  82., 118.],\n",
       "       [ 55.,  84., 121.],\n",
       "       [ 56.,  86., 123.],\n",
       "       [ 57.,  87., 125.],\n",
       "       [ 58.,  89., 128.],\n",
       "       [ 59.,  90., 130.],\n",
       "       [ 60.,  92., 132.],\n",
       "       [ 61.,  94., 135.],\n",
       "       [ 62.,  95., 137.],\n",
       "       [ 63.,  97., 139.],\n",
       "       [ 64.,  99., 142.],\n",
       "       [ 65., 100., 144.],\n",
       "       [ 66., 102., 146.],\n",
       "       [ 67., 103., 149.],\n",
       "       [ 68., 105., 151.],\n",
       "       [ 69., 107., 153.],\n",
       "       [ 70., 108., 156.],\n",
       "       [ 72., 110., 158.],\n",
       "       [ 73., 112., 160.],\n",
       "       [ 74., 113., 163.],\n",
       "       [ 75., 115., 165.],\n",
       "       [ 76., 116., 167.],\n",
       "       [ 77., 118., 170.],\n",
       "       [ 78., 120., 172.],\n",
       "       [ 79., 121., 174.],\n",
       "       [ 80., 123., 177.],\n",
       "       [ 81., 125., 179.],\n",
       "       [ 82., 126., 181.],\n",
       "       [ 83., 128., 184.],\n",
       "       [ 84., 129., 186.],\n",
       "       [ 85., 131., 188.],\n",
       "       [ 86., 133., 191.],\n",
       "       [ 87., 134., 193.],\n",
       "       [ 88., 136., 195.],\n",
       "       [ 90., 138., 198.],\n",
       "       [ 91., 139., 197.],\n",
       "       [ 93., 140., 196.],\n",
       "       [ 95., 141., 195.],\n",
       "       [ 97., 142., 194.],\n",
       "       [ 99., 143., 194.],\n",
       "       [101., 144., 193.],\n",
       "       [103., 145., 192.],\n",
       "       [105., 147., 191.],\n",
       "       [107., 148., 191.],\n",
       "       [109., 149., 190.],\n",
       "       [111., 150., 189.],\n",
       "       [113., 151., 188.],\n",
       "       [115., 152., 187.],\n",
       "       [117., 153., 187.],\n",
       "       [119., 155., 186.],\n",
       "       [121., 156., 185.],\n",
       "       [123., 157., 184.],\n",
       "       [124., 158., 184.],\n",
       "       [126., 159., 183.],\n",
       "       [128., 160., 182.],\n",
       "       [130., 161., 181.],\n",
       "       [132., 163., 180.],\n",
       "       [134., 164., 180.],\n",
       "       [136., 165., 179.],\n",
       "       [138., 166., 178.],\n",
       "       [140., 167., 177.],\n",
       "       [142., 168., 177.],\n",
       "       [144., 169., 176.],\n",
       "       [146., 171., 175.],\n",
       "       [148., 172., 174.],\n",
       "       [150., 173., 173.],\n",
       "       [152., 174., 173.],\n",
       "       [154., 175., 172.],\n",
       "       [156., 176., 171.],\n",
       "       [157., 177., 170.],\n",
       "       [159., 179., 170.],\n",
       "       [161., 180., 169.],\n",
       "       [163., 181., 168.],\n",
       "       [165., 182., 167.],\n",
       "       [167., 183., 166.],\n",
       "       [169., 184., 166.],\n",
       "       [171., 185., 165.],\n",
       "       [173., 187., 164.],\n",
       "       [175., 188., 163.],\n",
       "       [177., 189., 163.],\n",
       "       [179., 190., 162.],\n",
       "       [181., 191., 161.],\n",
       "       [183., 192., 160.],\n",
       "       [185., 193., 159.],\n",
       "       [187., 195., 159.],\n",
       "       [189., 196., 158.],\n",
       "       [190., 197., 157.],\n",
       "       [192., 198., 156.],\n",
       "       [194., 199., 156.],\n",
       "       [196., 200., 155.],\n",
       "       [198., 201., 154.],\n",
       "       [200., 203., 153.],\n",
       "       [202., 204., 152.],\n",
       "       [204., 205., 152.],\n",
       "       [206., 206., 151.],\n",
       "       [208., 207., 150.],\n",
       "       [210., 208., 149.],\n",
       "       [212., 209., 149.],\n",
       "       [214., 211., 148.],\n",
       "       [216., 212., 147.],\n",
       "       [218., 213., 146.],\n",
       "       [220., 214., 145.],\n",
       "       [222., 215., 145.],\n",
       "       [223., 216., 144.],\n",
       "       [225., 217., 143.],\n",
       "       [227., 219., 142.],\n",
       "       [229., 220., 142.],\n",
       "       [231., 221., 141.],\n",
       "       [233., 222., 140.],\n",
       "       [235., 223., 139.],\n",
       "       [237., 224., 138.],\n",
       "       [239., 225., 138.],\n",
       "       [241., 227., 137.],\n",
       "       [243., 228., 136.],\n",
       "       [245., 229., 135.],\n",
       "       [247., 230., 135.],\n",
       "       [249., 231., 134.],\n",
       "       [251., 232., 133.],\n",
       "       [253., 233., 132.],\n",
       "       [255., 235., 132.],\n",
       "       [254., 233., 131.],\n",
       "       [254., 231., 131.],\n",
       "       [254., 230., 131.],\n",
       "       [254., 228., 130.],\n",
       "       [254., 227., 130.],\n",
       "       [254., 225., 130.],\n",
       "       [254., 224., 129.],\n",
       "       [254., 222., 129.],\n",
       "       [254., 221., 129.],\n",
       "       [254., 219., 129.],\n",
       "       [254., 218., 128.],\n",
       "       [254., 216., 128.],\n",
       "       [253., 215., 128.],\n",
       "       [253., 213., 127.],\n",
       "       [253., 212., 127.],\n",
       "       [253., 210., 127.],\n",
       "       [253., 209., 127.],\n",
       "       [253., 207., 126.],\n",
       "       [253., 205., 126.],\n",
       "       [253., 204., 126.],\n",
       "       [253., 202., 125.],\n",
       "       [253., 201., 125.],\n",
       "       [253., 199., 125.],\n",
       "       [253., 198., 124.],\n",
       "       [252., 196., 124.],\n",
       "       [252., 195., 124.],\n",
       "       [252., 193., 124.],\n",
       "       [252., 192., 123.],\n",
       "       [252., 190., 123.],\n",
       "       [252., 189., 123.],\n",
       "       [252., 187., 122.],\n",
       "       [252., 186., 122.],\n",
       "       [252., 184., 122.],\n",
       "       [252., 182., 122.],\n",
       "       [252., 181., 121.],\n",
       "       [252., 179., 121.],\n",
       "       [251., 178., 121.],\n",
       "       [251., 176., 120.],\n",
       "       [251., 175., 120.],\n",
       "       [251., 173., 120.],\n",
       "       [251., 172., 119.],\n",
       "       [251., 170., 119.],\n",
       "       [251., 169., 119.],\n",
       "       [251., 167., 119.],\n",
       "       [251., 166., 118.],\n",
       "       [251., 164., 118.],\n",
       "       [251., 163., 118.],\n",
       "       [251., 161., 117.],\n",
       "       [250., 160., 117.],\n",
       "       [250., 158., 117.],\n",
       "       [250., 157., 117.],\n",
       "       [250., 155., 116.],\n",
       "       [250., 153., 116.],\n",
       "       [250., 152., 116.],\n",
       "       [250., 150., 115.],\n",
       "       [250., 149., 115.],\n",
       "       [250., 147., 115.],\n",
       "       [250., 146., 114.],\n",
       "       [250., 144., 114.],\n",
       "       [250., 143., 114.],\n",
       "       [249., 141., 114.],\n",
       "       [249., 140., 113.],\n",
       "       [249., 138., 113.],\n",
       "       [249., 137., 113.],\n",
       "       [249., 135., 112.],\n",
       "       [249., 134., 112.],\n",
       "       [249., 132., 112.],\n",
       "       [249., 131., 112.],\n",
       "       [249., 129., 111.],\n",
       "       [249., 127., 111.],\n",
       "       [249., 126., 111.],\n",
       "       [249., 124., 110.],\n",
       "       [248., 123., 110.],\n",
       "       [248., 121., 110.],\n",
       "       [248., 120., 109.],\n",
       "       [248., 118., 109.],\n",
       "       [248., 117., 109.],\n",
       "       [248., 115., 109.],\n",
       "       [248., 114., 108.],\n",
       "       [248., 112., 108.],\n",
       "       [248., 111., 108.],\n",
       "       [248., 109., 107.],\n",
       "       [248., 108., 107.],\n",
       "       [248., 106., 107.],\n",
       "       [248., 105., 107.]])"
      ]
     },
     "execution_count": 51,
     "metadata": {},
     "output_type": "execute_result"
    }
   ],
   "source": [
    "xls_black_blue_yellow_red_palette * 255 //1"
   ]
  },
  {
   "cell_type": "code",
   "execution_count": null,
   "metadata": {},
   "outputs": [],
   "source": []
  }
 ],
 "metadata": {
  "kernelspec": {
   "display_name": "Python 3.10.7 64-bit",
   "language": "python",
   "name": "python3"
  },
  "language_info": {
   "codemirror_mode": {
    "name": "ipython",
    "version": 3
   },
   "file_extension": ".py",
   "mimetype": "text/x-python",
   "name": "python",
   "nbconvert_exporter": "python",
   "pygments_lexer": "ipython3",
   "version": "3.10.7"
  },
  "orig_nbformat": 4,
  "vscode": {
   "interpreter": {
    "hash": "aee8b7b246df8f9039afb4144a1f6fd8d2ca17a180786b69acc140d282b71a49"
   }
  }
 },
 "nbformat": 4,
 "nbformat_minor": 2
}
